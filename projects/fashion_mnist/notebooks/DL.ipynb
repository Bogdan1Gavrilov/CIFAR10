{
 "cells": [
  {
   "cell_type": "raw",
   "id": "f30220ea-8367-497d-b533-595478da7154",
   "metadata": {},
   "source": [
    "устанавливаем все необходимые для работы библиотеки"
   ]
  },
  {
   "cell_type": "code",
   "execution_count": 1,
   "id": "729c361c-7903-4ad7-8bc1-a35083a4c367",
   "metadata": {},
   "outputs": [],
   "source": [
    "import torch\n",
    "import torch.nn as nn\n",
    "import torch.optim as optim\n",
    "from sklearn.datasets import load_digits\n",
    "from sklearn.model_selection import train_test_split\n",
    "from sklearn.preprocessing import StandardScaler\n",
    "from sklearn.metrics import accuracy_score"
   ]
  },
  {
   "cell_type": "raw",
   "id": "f014d375-8ca1-4f39-977d-07bd21f91bdb",
   "metadata": {},
   "source": [
    "начинаем подготовку данных"
   ]
  },
  {
   "cell_type": "code",
   "execution_count": 2,
   "id": "64172702-6557-4f2d-ad8f-2b511edc6bc5",
   "metadata": {},
   "outputs": [],
   "source": [
    "digits = load_digits()#встроенный датасет\n",
    "X = digits.data\n",
    "y = digits.target\n",
    "\n",
    "scaler = StandardScaler() # функция для нормирования признаков\n",
    "X = scaler.fit_transform(X)\n"
   ]
  },
  {
   "cell_type": "raw",
   "id": "930b6430-4bbe-46a3-8588-09e8b9f8cff9",
   "metadata": {},
   "source": [
    "разбиваем на тренировочную и обучающую выборки"
   ]
  },
  {
   "cell_type": "code",
   "execution_count": 3,
   "id": "4c8cc6ea-a1c1-4c91-aa76-a379cc03fd47",
   "metadata": {},
   "outputs": [],
   "source": [
    "X_train, X_test, y_train, y_test = train_test_split(X, y, test_size=0.2, random_state=42)"
   ]
  },
  {
   "cell_type": "raw",
   "id": "394afa7c-8a37-48a3-8197-0100e2dbb1a9",
   "metadata": {},
   "source": [
    "переводим данные в pytorch тензоры"
   ]
  },
  {
   "cell_type": "code",
   "execution_count": 4,
   "id": "7670c4b0-55f7-4c22-9220-837ec87cb8a8",
   "metadata": {},
   "outputs": [],
   "source": [
    "X_train = torch.tensor(X_train, dtype=torch.float32)\n",
    "y_train = torch.tensor(y_train, dtype=torch.long)\n",
    "X_test = torch.tensor(X_test, dtype=torch.float32)\n",
    "y_test = torch.tensor(y_test, dtype=torch.long)\n"
   ]
  },
  {
   "cell_type": "code",
   "execution_count": 5,
   "id": "6835959b-1a61-46fc-a88f-5dc04f466c10",
   "metadata": {},
   "outputs": [
    {
     "ename": "SyntaxError",
     "evalue": "invalid syntax (2801180890.py, line 1)",
     "output_type": "error",
     "traceback": [
      "  \u001b[36mCell\u001b[39m\u001b[36m \u001b[39m\u001b[32mIn[5]\u001b[39m\u001b[32m, line 1\u001b[39m\n\u001b[31m    \u001b[39m\u001b[31mсоздаем класс модели, наследуемый от nn.Module\u001b[39m\n            ^\n\u001b[31mSyntaxError\u001b[39m\u001b[31m:\u001b[39m invalid syntax\n"
     ]
    }
   ],
   "source": [
    "создаем класс модели, наследуемый от nn.Module"
   ]
  },
  {
   "cell_type": "code",
   "execution_count": 30,
   "id": "188c47ff-36d7-4dea-8671-161c136aa8ac",
   "metadata": {},
   "outputs": [],
   "source": [
    "class Net(nn.Module):\n",
    "    def __init__(self): # инициализация модели\n",
    "        super(Net, self).__init__()\n",
    "        self.fc1 = nn.Linear(64, 100) #64 - число входных нейронов, 100 - количество нейронов на первом скрытом слое\n",
    "        self.relu = nn.LeakyReLU()\n",
    "        self.fc2 = nn.Linear(100, 10) #на входе 100 нейронов, на выходе 10 - по количеству классов\n",
    "\n",
    "    def forward(self, X):\n",
    "        X = self.relu(self.fc1(X))\n",
    "        X = self.fc2(X)\n",
    "        return X\n",
    "\n",
    "model = Net()# Оббявили модель класса Net\n",
    "model2 = Net()"
   ]
  },
  {
   "cell_type": "raw",
   "id": "11622e55-3f57-46b9-afdd-48ffb89c0821",
   "metadata": {},
   "source": [
    "Обучаем модель на функции потерь - кроссэнтропии и  оптимизаторе Adam"
   ]
  },
  {
   "cell_type": "code",
   "execution_count": 31,
   "id": "1273d429-3fb7-44fb-b569-6f48240ae67e",
   "metadata": {},
   "outputs": [],
   "source": [
    "criterion = nn.CrossEntropyLoss()\n",
    "cr2 = nn.CrossEntropyLoss()\n",
    "\n",
    "optimizer = optim.Adam(model.parameters(), lr=0.001)\n",
    "opt2 = optim.Adam(model2.parameters(), lr=0.001)\n"
   ]
  },
  {
   "cell_type": "raw",
   "id": "42df3263-7a6a-46bd-86de-0bf8f3904e7d",
   "metadata": {},
   "source": [
    "Задаем количество эпох равное 50"
   ]
  },
  {
   "cell_type": "code",
   "execution_count": 32,
   "id": "1e628746-f7f3-424d-96cf-d70be8676012",
   "metadata": {},
   "outputs": [
    {
     "name": "stdout",
     "output_type": "stream",
     "text": [
      "Epoch 0 Loss: 2.2628\n",
      "Epoch 10 Loss: 1.8945\n",
      "Epoch 20 Loss: 1.5208\n",
      "Epoch 30 Loss: 1.1500\n",
      "Epoch 40 Loss: 0.8256\n"
     ]
    }
   ],
   "source": [
    "for epoch in range(50):\n",
    "    optimizer.zero_grad()\n",
    "    output = model2(X_train)\n",
    "    loss = criterion(output, y_train)\n",
    "    loss.backward()\n",
    "    opt2.step()\n",
    "    if epoch % 10 ==0:\n",
    "        print(f\"Epoch {epoch} Loss: {loss.item():.4f}\")"
   ]
  },
  {
   "cell_type": "raw",
   "id": "595157eb-a854-4893-adf9-9c9184f7ed83",
   "metadata": {},
   "source": [
    "для каждой эпохи обнуляем градиент, находим предсказание модели и считаем loss функцию, после чего проходимся с конца через backward и настраиваем функцию оптимизации через step"
   ]
  },
  {
   "cell_type": "code",
   "execution_count": 23,
   "id": "d7c7b770-2d61-488d-a16f-00d6b307c024",
   "metadata": {},
   "outputs": [
    {
     "name": "stdout",
     "output_type": "stream",
     "text": [
      "Accuracy: 0.9722\n"
     ]
    }
   ],
   "source": [
    "model.eval() #перевод модели в режим оценки\n",
    "with torch.no_grad(): #отключаем подсчет градиентов для оптимизации памяти\n",
    "    predictions  = model2(X_test) # получаем тенсор из предсказаний вероятности класса\n",
    "    predicted_labels = torch.argmax(predictions, axis=1)#получаем класс с максимальной вероятностью\n",
    "    acc = accuracy_score(y_test, predicted_labels)\n",
    "    print(f\"Accuracy: {acc:.4f}\")"
   ]
  },
  {
   "cell_type": "raw",
   "id": "572cd056-571d-4241-9d13-65cd83ea5882",
   "metadata": {},
   "source": [
    "подключаем библиотеки для визуализации"
   ]
  },
  {
   "cell_type": "code",
   "execution_count": 24,
   "id": "232f6afd-41ef-4aa8-a4c7-da13fd1ac1f4",
   "metadata": {},
   "outputs": [],
   "source": [
    "import matplotlib.pyplot as plt\n",
    "import seaborn as sns\n",
    "from sklearn.metrics import confusion_matrix"
   ]
  },
  {
   "cell_type": "raw",
   "id": "29612322-cc6f-4b5a-acbe-8214b84ae47c",
   "metadata": {},
   "source": [
    "Переводим тензоры в numpy массивы, ибо библиотеки визуализации только с ними работают"
   ]
  },
  {
   "cell_type": "code",
   "execution_count": 25,
   "id": "0654b560-c432-445f-86f7-098c0cfa72c2",
   "metadata": {},
   "outputs": [],
   "source": [
    "y = y_test.cpu().numpy()\n",
    "y_pred = predicted_labels.cpu().numpy()"
   ]
  },
  {
   "cell_type": "code",
   "execution_count": 26,
   "id": "d0c41926-1769-4f2a-9b7e-84bf8e95a6d2",
   "metadata": {},
   "outputs": [
    {
     "data": {
      "image/png": "[encoded data removed]",
      "text/plain": [
       "<Figure size 640x480 with 2 Axes>"
      ]
     },
     "metadata": {},
     "output_type": "display_data"
    }
   ],
   "source": [
    "cm = confusion_matrix(y, y_pred)\n",
    "sns.heatmap(cm, annot=True, fmt='d')\n",
    "plt.xlabel(\"Предсказание\")\n",
    "plt.ylabel(\"Реальность\")\n",
    "plt.title(\"матрица ошибок\")\n",
    "plt.show()"
   ]
  },
  {
   "cell_type": "raw",
   "id": "9618e5e7-9aaf-4f57-864a-4ce2a83a1a68",
   "metadata": {},
   "source": [
    "определяет очень хорошо, путает по большей части почему то 8 и 1(причем определяет 8 как 1 но не наоборот), accuracy на 50 эпохах 90%"
   ]
  },
  {
   "cell_type": "raw",
   "id": "3bb25948-40bc-4782-9fa4-aa1c51762fe1",
   "metadata": {},
   "source": [
    "обучил 100 эпох получил практически идеальную модель accuracy 97%\n",
    "ликирелу и релу практически не имеют разницы, сейчас попробую уменьшить количество эпох обратно до 50 и поэкспериментировать\n"
   ]
  },
  {
   "cell_type": "raw",
   "id": "70583744-000e-43ac-827a-100f0301b65a",
   "metadata": {},
   "source": [
    "первый запуск 50 эпох дал такой же результат как на 100 эпохах(я понял почему так, просто эпохи то складываются, там суммарно уже и вышло наверное в районе 200)\n",
    "создам новую модель"
   ]
  },
  {
   "cell_type": "code",
   "execution_count": null,
   "id": "0f57f93c-c28a-4f1e-b08f-9b34352530fe",
   "metadata": {},
   "outputs": [],
   "source": []
  }
 ],
 "metadata": {
  "kernelspec": {
   "display_name": "Python 3 (ipykernel)",
   "language": "python",
   "name": "python3"
  },
  "language_info": {
   "codemirror_mode": {
    "name": "ipython",
    "version": 3
   },
   "file_extension": ".py",
   "mimetype": "text/x-python",
   "name": "python",
   "nbconvert_exporter": "python",
   "pygments_lexer": "ipython3",
   "version": "3.10.16"
  }
 },
 "nbformat": 4,
 "nbformat_minor": 5
}
