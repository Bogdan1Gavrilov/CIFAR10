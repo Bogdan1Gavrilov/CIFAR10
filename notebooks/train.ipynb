{
 "cells": [
  {
   "cell_type": "code",
   "execution_count": 1,
   "id": "6a47bacf-a8e7-44b3-9201-27908a758442",
   "metadata": {},
   "outputs": [
    {
     "name": "stdout",
     "output_type": "stream",
     "text": [
      "Текущая рабочая директория: C:\\Users\\gavri\\ML\\projects\\fashion_mnist\\notebooks\n"
     ]
    }
   ],
   "source": [
    "import sys\n",
    "import os\n",
    "sys.path.append(os.path.abspath('..')) #поднимаемся на одну директорию вверх\n",
    "print(\"Текущая рабочая директория:\", os.getcwd())"
   ]
  },
  {
   "cell_type": "code",
   "execution_count": 2,
   "id": "767a11e5-5994-4c25-ab02-2d3f5d3859be",
   "metadata": {},
   "outputs": [],
   "source": [
    "import torch\n",
    "import torch.nn as nn\n",
    "import torch.optim as optim\n",
    "\n",
    "from src.data import get_dataloaders\n",
    "from src.model import FashionCNN"
   ]
  },
  {
   "cell_type": "raw",
   "id": "496b02d9-e850-4bbc-b93e-41e33e668ee4",
   "metadata": {},
   "source": [
    "Настроим устройство для вычислений - по возможности они будут переноситься на видеокарту"
   ]
  },
  {
   "cell_type": "code",
   "execution_count": 4,
   "id": "c40ea5a8-7a86-4cb8-9666-ebcee164b2cb",
   "metadata": {},
   "outputs": [],
   "source": [
    "device = torch.device(\"cuda\" if torch.cuda.is_available() else \"cpu\")"
   ]
  },
  {
   "cell_type": "raw",
   "id": "0c4a9969-81f7-4747-b114-5c9ecd524f09",
   "metadata": {},
   "source": [
    "Загружаем данные"
   ]
  },
  {
   "cell_type": "code",
   "execution_count": 5,
   "id": "c1f32eab-3b5a-47fb-9fbf-98a369fed137",
   "metadata": {},
   "outputs": [],
   "source": [
    "train_loader, val_loader, test_loader = get_dataloaders(batch_size=64)"
   ]
  },
  {
   "cell_type": "raw",
   "id": "a417150f-3dca-4d07-adcf-cd8f0f7cbaf8",
   "metadata": {},
   "source": [
    "инициализируем модель, функцию потерь и оптимизатор"
   ]
  },
  {
   "cell_type": "code",
   "execution_count": 6,
   "id": "e7be9abf-0fbe-4467-8410-c902870f9622",
   "metadata": {},
   "outputs": [],
   "source": [
    "model = FashionCNN().to(device)\n",
    "criterion = nn.CrossEntropyLoss()\n",
    "optimizer = optim.Adam(model.parameters(), lr=0.001)"
   ]
  },
  {
   "cell_type": "raw",
   "id": "3d140896-9564-412d-9fed-11f1e182ccce",
   "metadata": {},
   "source": [
    "Начинаем цикл обучения"
   ]
  },
  {
   "cell_type": "code",
   "execution_count": 1,
   "id": "de38f38c-d771-4a93-93cc-3c1c795716a9",
   "metadata": {},
   "outputs": [
    {
     "ename": "NameError",
     "evalue": "name 'model' is not defined",
     "output_type": "error",
     "traceback": [
      "\u001b[1;31m---------------------------------------------------------------------------\u001b[0m",
      "\u001b[1;31mNameError\u001b[0m                                 Traceback (most recent call last)",
      "Cell \u001b[1;32mIn[1], line 2\u001b[0m\n\u001b[0;32m      1\u001b[0m \u001b[38;5;28;01mfor\u001b[39;00m epoch \u001b[38;5;129;01min\u001b[39;00m \u001b[38;5;28mrange\u001b[39m(\u001b[38;5;241m10\u001b[39m):\n\u001b[1;32m----> 2\u001b[0m     model\u001b[38;5;241m.\u001b[39mtrain() \u001b[38;5;66;03m#переходим в режим обучения модели\u001b[39;00m\n\u001b[0;32m      3\u001b[0m     running_loss \u001b[38;5;241m=\u001b[39m \u001b[38;5;241m0.0\u001b[39m\n\u001b[0;32m      5\u001b[0m     \u001b[38;5;28;01mfor\u001b[39;00m images, labels \u001b[38;5;129;01min\u001b[39;00m train_loader:\n",
      "\u001b[1;31mNameError\u001b[0m: name 'model' is not defined"
     ]
    }
   ],
   "source": [
    "for epoch in range(10):\n",
    "    model.train() #переходим в режим обучения модели\n",
    "    running_loss = 0.0\n",
    "\n",
    "    for images, labels in train_loader:\n",
    "        images, labels = images.to(device), labels.to(device)\n",
    "\n",
    "        optimizer.zero_grad() #\n",
    "        outputs = model(images) #\n",
    "        loss = criterion(outputs, labels)\n",
    "        loss.backward()\n",
    "        optimizer.step()\n",
    "    \n",
    "        running_loss += loss.item()\n",
    "        \n",
    "    avg_loss = running_loss / len(train_loader)\n",
    "    print(f\"[{epoch+1}/10] Loss: {avg_loss:.4f}\")\n"
   ]
  },
  {
   "cell_type": "raw",
   "id": "0a109196-11c4-4927-a51a-1a6c65c08019",
   "metadata": {},
   "source": [
    "Сохраняем модель"
   ]
  },
  {
   "cell_type": "code",
   "execution_count": 1,
   "id": "67e6cc8e-186d-460d-8a9f-fdc63dda8b54",
   "metadata": {},
   "outputs": [
    {
     "ename": "NameError",
     "evalue": "name 'torch' is not defined",
     "output_type": "error",
     "traceback": [
      "\u001b[31m---------------------------------------------------------------------------\u001b[39m",
      "\u001b[31mNameError\u001b[39m                                 Traceback (most recent call last)",
      "\u001b[36mCell\u001b[39m\u001b[36m \u001b[39m\u001b[32mIn[1]\u001b[39m\u001b[32m, line 1\u001b[39m\n\u001b[32m----> \u001b[39m\u001b[32m1\u001b[39m \u001b[43mtorch\u001b[49m.save(model.state_dict(), \u001b[33m\"\u001b[39m\u001b[33mmodels/fashion_cnn.pth\u001b[39m\u001b[33m\"\u001b[39m)\n",
      "\u001b[31mNameError\u001b[39m: name 'torch' is not defined"
     ]
    }
   ],
   "source": [
    "torch.save(model.state_dict(), \"models/fashion_cnn.pth\")"
   ]
  },
  {
   "cell_type": "code",
   "execution_count": null,
   "id": "5b7cd1ee-f13d-4874-ae3f-18121eab382a",
   "metadata": {},
   "outputs": [],
   "source": []
  }
 ],
 "metadata": {
  "kernelspec": {
   "display_name": "Python (fashion-dl)",
   "language": "python",
   "name": "fashion-dl"
  },
  "language_info": {
   "codemirror_mode": {
    "name": "ipython",
    "version": 3
   },
   "file_extension": ".py",
   "mimetype": "text/x-python",
   "name": "python",
   "nbconvert_exporter": "python",
   "pygments_lexer": "ipython3",
   "version": "3.12.7"
  }
 },
 "nbformat": 4,
 "nbformat_minor": 5
}
