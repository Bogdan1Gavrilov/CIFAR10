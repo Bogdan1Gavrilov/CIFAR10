{
 "cells": [
  {
   "cell_type": "code",
   "execution_count": 1,
   "id": "8ae36a6f-c997-4da3-a0fb-99efc226ea5a",
   "metadata": {},
   "outputs": [
    {
     "name": "stdout",
     "output_type": "stream",
     "text": [
      "(891, 12)\n",
      "PassengerId      int64\n",
      "Survived         int64\n",
      "Pclass           int64\n",
      "Name            object\n",
      "Sex             object\n",
      "Age            float64\n",
      "SibSp            int64\n",
      "Parch            int64\n",
      "Ticket          object\n",
      "Fare           float64\n",
      "Cabin           object\n",
      "Embarked        object\n",
      "dtype: object\n",
      "   PassengerId  Survived  Pclass  \\\n",
      "0            1         0       3   \n",
      "1            2         1       1   \n",
      "2            3         1       3   \n",
      "3            4         1       1   \n",
      "4            5         0       3   \n",
      "\n",
      "                                                Name     Sex   Age  SibSp  \\\n",
      "0                            Braund, Mr. Owen Harris    male  22.0      1   \n",
      "1  Cumings, Mrs. John Bradley (Florence Briggs Th...  female  38.0      1   \n",
      "2                             Heikkinen, Miss. Laina  female  26.0      0   \n",
      "3       Futrelle, Mrs. Jacques Heath (Lily May Peel)  female  35.0      1   \n",
      "4                           Allen, Mr. William Henry    male  35.0      0   \n",
      "\n",
      "   Parch            Ticket     Fare Cabin Embarked  \n",
      "0      0         A/5 21171   7.2500   NaN        S  \n",
      "1      0          PC 17599  71.2833   C85        C  \n",
      "2      0  STON/O2. 3101282   7.9250   NaN        S  \n",
      "3      0            113803  53.1000  C123        S  \n",
      "4      0            373450   8.0500   NaN        S  \n",
      "PassengerId      0\n",
      "Survived         0\n",
      "Pclass           0\n",
      "Name             0\n",
      "Sex              0\n",
      "Age            177\n",
      "SibSp            0\n",
      "Parch            0\n",
      "Ticket           0\n",
      "Fare             0\n",
      "Cabin          687\n",
      "Embarked         2\n",
      "dtype: int64\n",
      "0\n"
     ]
    }
   ],
   "source": [
    "import pandas as pd\n",
    "\n",
    "data = pd.read_csv(R\"C:\\Users\\gavri\\ML\\datasets\\titanic\\train.csv\")\n",
    "print(data.shape)\n",
    "print(data.dtypes)\n",
    "print(data.head(5))\n",
    "print(data.isnull().sum())\n",
    "\n",
    "data['Age'] = data['Age'].fillna(data['Age'].median())\n",
    "\n",
    "print(data['Age'].isnull().sum())\n",
    "data = data.drop(['PassengerId', 'Name', 'Ticket', 'Cabin'], axis=1)"
   ]
  },
  {
   "cell_type": "code",
   "execution_count": 2,
   "id": "b39945f2-2cf4-40dd-995d-5257bd309a9a",
   "metadata": {},
   "outputs": [
    {
     "name": "stdout",
     "output_type": "stream",
     "text": [
      "<class 'pandas.core.frame.DataFrame'>\n",
      "RangeIndex: 891 entries, 0 to 890\n",
      "Data columns (total 8 columns):\n",
      " #   Column    Non-Null Count  Dtype  \n",
      "---  ------    --------------  -----  \n",
      " 0   Survived  891 non-null    int64  \n",
      " 1   Pclass    891 non-null    int64  \n",
      " 2   Sex       891 non-null    int64  \n",
      " 3   Age       891 non-null    float64\n",
      " 4   SibSp     891 non-null    int64  \n",
      " 5   Parch     891 non-null    int64  \n",
      " 6   Fare      891 non-null    float64\n",
      " 7   Embarked  889 non-null    object \n",
      "dtypes: float64(2), int64(5), object(1)\n",
      "memory usage: 55.8+ KB\n"
     ]
    }
   ],
   "source": [
    "from sklearn.preprocessing import LabelEncoder\n",
    "le = LabelEncoder()\n",
    "data['Sex'] = le.fit_transform(data['Sex'])\n",
    "data.info()"
   ]
  },
  {
   "cell_type": "code",
   "execution_count": 3,
   "id": "f408c253-e967-4212-8fa3-42d1b833fdbe",
   "metadata": {},
   "outputs": [],
   "source": [
    "data = pd.get_dummies(data, columns=['Embarked'], drop_first=True)"
   ]
  },
  {
   "cell_type": "code",
   "execution_count": 4,
   "id": "cdefa78d-e598-45c1-9458-a3f787159043",
   "metadata": {},
   "outputs": [],
   "source": [
    "from sklearn.preprocessing import MinMaxScaler\n",
    "scaler = MinMaxScaler()\n",
    "data[['Age', 'Fare']] = scaler.fit_transform(data[['Age', 'Fare']])"
   ]
  },
  {
   "cell_type": "raw",
   "id": "108a2d68-0bd2-42ab-be64-1d0c703e81f7",
   "metadata": {},
   "source": [
    "ВЫПОЛНЯЕМ РАЗБИЕНИЕ НА ТРЕНИРОВОЧНЫЕ И ТЕСТОВЫЕ ДАННЫЕ А ТО ОКАЗЫВАЕТСЯ ОТВЕТОВ НА TEST НЕТ "
   ]
  },
  {
   "cell_type": "code",
   "execution_count": 6,
   "id": "02ae8622-7064-4194-81e8-7e5447e6bcd7",
   "metadata": {},
   "outputs": [],
   "source": [
    "from sklearn.model_selection import train_test_split\n",
    "x = data.drop(\"Survived\", axis=1)\n",
    "y = data[\"Survived\"]\n",
    "xtrain, xtest, ytrain, ytest = train_test_split(x, y, test_size=0.2, random_state=42)"
   ]
  },
  {
   "cell_type": "raw",
   "id": "3423445c-f7ae-4693-921e-bf0b21bfc9f2",
   "metadata": {},
   "source": [
    "Выполнил предобработку данных и выделил xtrain ytrain, ниже буду писать модель"
   ]
  },
  {
   "cell_type": "code",
   "execution_count": 7,
   "id": "a94d65a5-4f08-4464-9335-078578f67071",
   "metadata": {},
   "outputs": [],
   "source": [
    "import torch\n",
    "import torch.nn as nn\n",
    "import torch.optim as optim\n",
    "from sklearn.datasets import load_digits\n",
    "from sklearn.model_selection import train_test_split\n",
    "from sklearn.preprocessing import StandardScaler\n",
    "from sklearn.metrics import accuracy_score"
   ]
  },
  {
   "cell_type": "code",
   "execution_count": 8,
   "id": "d59cae2f-032b-4f1c-80cd-5cf2ec15d5b5",
   "metadata": {},
   "outputs": [
    {
     "name": "stdout",
     "output_type": "stream",
     "text": [
      "tensor([[1.0000, 1.0000, 0.5665,  ..., 0.0556, 0.0000, 1.0000],\n",
      "        [2.0000, 1.0000, 0.2837,  ..., 0.0254, 0.0000, 1.0000],\n",
      "        [3.0000, 1.0000, 0.3968,  ..., 0.0155, 0.0000, 1.0000],\n",
      "        ...,\n",
      "        [3.0000, 1.0000, 0.5099,  ..., 0.0275, 0.0000, 1.0000],\n",
      "        [1.0000, 0.0000, 0.1706,  ..., 0.2342, 0.0000, 1.0000],\n",
      "        [1.0000, 1.0000, 0.2586,  ..., 0.1509, 0.0000, 1.0000]])\n"
     ]
    }
   ],
   "source": [
    "xtrain = xtrain.astype('float32')\n",
    "ytrain = ytrain.astype('float32')\n",
    "xt = xtrain.to_numpy()\n",
    "yt = ytrain.to_numpy()\n",
    "xtrain = torch.tensor(xt)\n",
    "ytrain = torch.tensor(yt)\n",
    "\n",
    "print(xtrain)"
   ]
  },
  {
   "cell_type": "raw",
   "id": "a6acac37-6ff6-4fe4-b1c6-00d2476b79c3",
   "metadata": {},
   "source": [
    "сначала привел все данные в float32, после чего перевел их из датафрейма в нампи массив и уже только после этого преобразовал их в тензоры"
   ]
  },
  {
   "cell_type": "code",
   "execution_count": 257,
   "id": "3d79bbd9-6bec-40b2-b0b2-37a203fea8e4",
   "metadata": {},
   "outputs": [],
   "source": [
    "class Net(nn.Module):\n",
    "    def __init__(self): # инициализация модели\n",
    "        super(Net, self).__init__()\n",
    "        self.fc1 = nn.Linear(8, 50) #7 - число входных нейронов, 50 - количество нейронов на первом скрытом слое\n",
    "        self.relu = nn.LeakyReLU()\n",
    "        self.fc2 = nn.Linear(50, 25)\n",
    "        self.fc3 = nn.Linear(25, 10)#на входе 100 нейронов, на выходе 10 - просто добавим нейронов\n",
    "        self.fc4 = nn.Linear(10, 5)\n",
    "        self.fc5 = nn.Linear(5, 2) #Два нейрона на выходе - выжил или не выжил\n",
    "    def forward(self, X):\n",
    "        X = self.relu(self.fc1(X))\n",
    "        X = self.relu(self.fc2(X))\n",
    "        X = self.relu(self.fc3(X))\n",
    "        X = self.relu(self.fc4(X))\n",
    "        X = self.fc5(X)\n",
    "        \n",
    "        return X\n",
    "\n",
    "model = Net()"
   ]
  },
  {
   "cell_type": "raw",
   "id": "86ce71ab-45e5-43b8-9b07-6ec005e1e68c",
   "metadata": {},
   "source": [
    "пока сделал трехслойную с 50 нейронами на 1 скрытом слое и 10 на 2, проверю как будет работать"
   ]
  },
  {
   "cell_type": "code",
   "execution_count": 370,
   "id": "6aaaf7be-792d-4309-8880-bde73f458ade",
   "metadata": {},
   "outputs": [],
   "source": [
    "criterion = nn.CrossEntropyLoss()\n",
    "\n",
    "optimizer = optim.Adam(model.parameters(), lr=0.001)"
   ]
  },
  {
   "cell_type": "code",
   "execution_count": 315,
   "id": "d3c3d174-914c-481e-a723-ca36eac9b9bc",
   "metadata": {},
   "outputs": [],
   "source": [
    "ytrain = ytrain.long()"
   ]
  },
  {
   "cell_type": "code",
   "execution_count": 361,
   "id": "6600bca2-90ca-45d9-907d-dc7b04e7b1d7",
   "metadata": {},
   "outputs": [],
   "source": [
    "for epoch in range(25):\n",
    "    optimizer.zero_grad()\n",
    "    output = model(xtrain)\n",
    "    loss = criterion(output, ytrain)\n",
    "    loss.backward()\n",
    "    optimizer.step()\n",
    "    output = torch.argmax(output, axis=1)\n",
    "    "
   ]
  },
  {
   "cell_type": "raw",
   "id": "3e57b668-dfd5-42bc-85ae-0269236e65d6",
   "metadata": {},
   "source": [
    "загружаю тестовые данные"
   ]
  },
  {
   "cell_type": "raw",
   "id": "5a76f7e8-5cf4-40cf-a570-330a3d73a91a",
   "metadata": {},
   "source": [
    "xtest = xtest.astype('float32')\n",
    "ytest = ytest.astype('float32')\n",
    "xt = xtest.to_numpy()\n",
    "yt = ytest.to_numpy()\n",
    "xtest = torch.tensor(xt)\n",
    "ytest = torch.tensor(yt)"
   ]
  },
  {
   "cell_type": "code",
   "execution_count": 362,
   "id": "9d360377-0a88-44bc-9282-8624869c79b9",
   "metadata": {},
   "outputs": [],
   "source": [
    "ytest = ytest.long()"
   ]
  },
  {
   "cell_type": "code",
   "execution_count": 371,
   "id": "7dac95ff-62ce-4b0f-98a2-0330bc93e013",
   "metadata": {},
   "outputs": [
    {
     "ename": "TypeError",
     "evalue": "linear(): argument 'input' (position 1) must be Tensor, not DataFrame",
     "output_type": "error",
     "traceback": [
      "\u001b[31m---------------------------------------------------------------------------\u001b[39m",
      "\u001b[31mTypeError\u001b[39m                                 Traceback (most recent call last)",
      "\u001b[36mCell\u001b[39m\u001b[36m \u001b[39m\u001b[32mIn[371]\u001b[39m\u001b[32m, line 3\u001b[39m\n\u001b[32m      1\u001b[39m model.eval() \u001b[38;5;66;03m#перевод модели в режим оценки\u001b[39;00m\n\u001b[32m      2\u001b[39m \u001b[38;5;28;01mwith\u001b[39;00m torch.no_grad(): \u001b[38;5;66;03m#отключаем подсчет градиентов для оптимизации памяти\u001b[39;00m\n\u001b[32m----> \u001b[39m\u001b[32m3\u001b[39m     predictions  = \u001b[43mmodel\u001b[49m\u001b[43m(\u001b[49m\u001b[43mxtest\u001b[49m\u001b[43m)\u001b[49m \u001b[38;5;66;03m# получаем тенсор из предсказаний вероятности класса\u001b[39;00m\n\u001b[32m      4\u001b[39m     predicted_labels = torch.argmax(predictions, axis=\u001b[32m1\u001b[39m)\u001b[38;5;66;03m#получаем класс с максимальной вероятностью\u001b[39;00m\n\u001b[32m      5\u001b[39m     acc = accuracy_score(yt, predicted_labels)\n",
      "\u001b[36mFile \u001b[39m\u001b[32m~\\AppData\\Local\\Programs\\Python\\Python313\\Lib\\site-packages\\torch\\nn\\modules\\module.py:1751\u001b[39m, in \u001b[36mModule._wrapped_call_impl\u001b[39m\u001b[34m(self, *args, **kwargs)\u001b[39m\n\u001b[32m   1749\u001b[39m     \u001b[38;5;28;01mreturn\u001b[39;00m \u001b[38;5;28mself\u001b[39m._compiled_call_impl(*args, **kwargs)  \u001b[38;5;66;03m# type: ignore[misc]\u001b[39;00m\n\u001b[32m   1750\u001b[39m \u001b[38;5;28;01melse\u001b[39;00m:\n\u001b[32m-> \u001b[39m\u001b[32m1751\u001b[39m     \u001b[38;5;28;01mreturn\u001b[39;00m \u001b[38;5;28;43mself\u001b[39;49m\u001b[43m.\u001b[49m\u001b[43m_call_impl\u001b[49m\u001b[43m(\u001b[49m\u001b[43m*\u001b[49m\u001b[43margs\u001b[49m\u001b[43m,\u001b[49m\u001b[43m \u001b[49m\u001b[43m*\u001b[49m\u001b[43m*\u001b[49m\u001b[43mkwargs\u001b[49m\u001b[43m)\u001b[49m\n",
      "\u001b[36mFile \u001b[39m\u001b[32m~\\AppData\\Local\\Programs\\Python\\Python313\\Lib\\site-packages\\torch\\nn\\modules\\module.py:1762\u001b[39m, in \u001b[36mModule._call_impl\u001b[39m\u001b[34m(self, *args, **kwargs)\u001b[39m\n\u001b[32m   1757\u001b[39m \u001b[38;5;66;03m# If we don't have any hooks, we want to skip the rest of the logic in\u001b[39;00m\n\u001b[32m   1758\u001b[39m \u001b[38;5;66;03m# this function, and just call forward.\u001b[39;00m\n\u001b[32m   1759\u001b[39m \u001b[38;5;28;01mif\u001b[39;00m \u001b[38;5;129;01mnot\u001b[39;00m (\u001b[38;5;28mself\u001b[39m._backward_hooks \u001b[38;5;129;01mor\u001b[39;00m \u001b[38;5;28mself\u001b[39m._backward_pre_hooks \u001b[38;5;129;01mor\u001b[39;00m \u001b[38;5;28mself\u001b[39m._forward_hooks \u001b[38;5;129;01mor\u001b[39;00m \u001b[38;5;28mself\u001b[39m._forward_pre_hooks\n\u001b[32m   1760\u001b[39m         \u001b[38;5;129;01mor\u001b[39;00m _global_backward_pre_hooks \u001b[38;5;129;01mor\u001b[39;00m _global_backward_hooks\n\u001b[32m   1761\u001b[39m         \u001b[38;5;129;01mor\u001b[39;00m _global_forward_hooks \u001b[38;5;129;01mor\u001b[39;00m _global_forward_pre_hooks):\n\u001b[32m-> \u001b[39m\u001b[32m1762\u001b[39m     \u001b[38;5;28;01mreturn\u001b[39;00m \u001b[43mforward_call\u001b[49m\u001b[43m(\u001b[49m\u001b[43m*\u001b[49m\u001b[43margs\u001b[49m\u001b[43m,\u001b[49m\u001b[43m \u001b[49m\u001b[43m*\u001b[49m\u001b[43m*\u001b[49m\u001b[43mkwargs\u001b[49m\u001b[43m)\u001b[49m\n\u001b[32m   1764\u001b[39m result = \u001b[38;5;28;01mNone\u001b[39;00m\n\u001b[32m   1765\u001b[39m called_always_called_hooks = \u001b[38;5;28mset\u001b[39m()\n",
      "\u001b[36mCell\u001b[39m\u001b[36m \u001b[39m\u001b[32mIn[257]\u001b[39m\u001b[32m, line 11\u001b[39m, in \u001b[36mNet.forward\u001b[39m\u001b[34m(self, X)\u001b[39m\n\u001b[32m     10\u001b[39m \u001b[38;5;28;01mdef\u001b[39;00m\u001b[38;5;250m \u001b[39m\u001b[34mforward\u001b[39m(\u001b[38;5;28mself\u001b[39m, X):\n\u001b[32m---> \u001b[39m\u001b[32m11\u001b[39m     X = \u001b[38;5;28mself\u001b[39m.relu(\u001b[38;5;28;43mself\u001b[39;49m\u001b[43m.\u001b[49m\u001b[43mfc1\u001b[49m\u001b[43m(\u001b[49m\u001b[43mX\u001b[49m\u001b[43m)\u001b[49m)\n\u001b[32m     12\u001b[39m     X = \u001b[38;5;28mself\u001b[39m.relu(\u001b[38;5;28mself\u001b[39m.fc2(X))\n\u001b[32m     13\u001b[39m     X = \u001b[38;5;28mself\u001b[39m.relu(\u001b[38;5;28mself\u001b[39m.fc3(X))\n",
      "\u001b[36mFile \u001b[39m\u001b[32m~\\AppData\\Local\\Programs\\Python\\Python313\\Lib\\site-packages\\torch\\nn\\modules\\module.py:1751\u001b[39m, in \u001b[36mModule._wrapped_call_impl\u001b[39m\u001b[34m(self, *args, **kwargs)\u001b[39m\n\u001b[32m   1749\u001b[39m     \u001b[38;5;28;01mreturn\u001b[39;00m \u001b[38;5;28mself\u001b[39m._compiled_call_impl(*args, **kwargs)  \u001b[38;5;66;03m# type: ignore[misc]\u001b[39;00m\n\u001b[32m   1750\u001b[39m \u001b[38;5;28;01melse\u001b[39;00m:\n\u001b[32m-> \u001b[39m\u001b[32m1751\u001b[39m     \u001b[38;5;28;01mreturn\u001b[39;00m \u001b[38;5;28;43mself\u001b[39;49m\u001b[43m.\u001b[49m\u001b[43m_call_impl\u001b[49m\u001b[43m(\u001b[49m\u001b[43m*\u001b[49m\u001b[43margs\u001b[49m\u001b[43m,\u001b[49m\u001b[43m \u001b[49m\u001b[43m*\u001b[49m\u001b[43m*\u001b[49m\u001b[43mkwargs\u001b[49m\u001b[43m)\u001b[49m\n",
      "\u001b[36mFile \u001b[39m\u001b[32m~\\AppData\\Local\\Programs\\Python\\Python313\\Lib\\site-packages\\torch\\nn\\modules\\module.py:1762\u001b[39m, in \u001b[36mModule._call_impl\u001b[39m\u001b[34m(self, *args, **kwargs)\u001b[39m\n\u001b[32m   1757\u001b[39m \u001b[38;5;66;03m# If we don't have any hooks, we want to skip the rest of the logic in\u001b[39;00m\n\u001b[32m   1758\u001b[39m \u001b[38;5;66;03m# this function, and just call forward.\u001b[39;00m\n\u001b[32m   1759\u001b[39m \u001b[38;5;28;01mif\u001b[39;00m \u001b[38;5;129;01mnot\u001b[39;00m (\u001b[38;5;28mself\u001b[39m._backward_hooks \u001b[38;5;129;01mor\u001b[39;00m \u001b[38;5;28mself\u001b[39m._backward_pre_hooks \u001b[38;5;129;01mor\u001b[39;00m \u001b[38;5;28mself\u001b[39m._forward_hooks \u001b[38;5;129;01mor\u001b[39;00m \u001b[38;5;28mself\u001b[39m._forward_pre_hooks\n\u001b[32m   1760\u001b[39m         \u001b[38;5;129;01mor\u001b[39;00m _global_backward_pre_hooks \u001b[38;5;129;01mor\u001b[39;00m _global_backward_hooks\n\u001b[32m   1761\u001b[39m         \u001b[38;5;129;01mor\u001b[39;00m _global_forward_hooks \u001b[38;5;129;01mor\u001b[39;00m _global_forward_pre_hooks):\n\u001b[32m-> \u001b[39m\u001b[32m1762\u001b[39m     \u001b[38;5;28;01mreturn\u001b[39;00m \u001b[43mforward_call\u001b[49m\u001b[43m(\u001b[49m\u001b[43m*\u001b[49m\u001b[43margs\u001b[49m\u001b[43m,\u001b[49m\u001b[43m \u001b[49m\u001b[43m*\u001b[49m\u001b[43m*\u001b[49m\u001b[43mkwargs\u001b[49m\u001b[43m)\u001b[49m\n\u001b[32m   1764\u001b[39m result = \u001b[38;5;28;01mNone\u001b[39;00m\n\u001b[32m   1765\u001b[39m called_always_called_hooks = \u001b[38;5;28mset\u001b[39m()\n",
      "\u001b[36mFile \u001b[39m\u001b[32m~\\AppData\\Local\\Programs\\Python\\Python313\\Lib\\site-packages\\torch\\nn\\modules\\linear.py:125\u001b[39m, in \u001b[36mLinear.forward\u001b[39m\u001b[34m(self, input)\u001b[39m\n\u001b[32m    124\u001b[39m \u001b[38;5;28;01mdef\u001b[39;00m\u001b[38;5;250m \u001b[39m\u001b[34mforward\u001b[39m(\u001b[38;5;28mself\u001b[39m, \u001b[38;5;28minput\u001b[39m: Tensor) -> Tensor:\n\u001b[32m--> \u001b[39m\u001b[32m125\u001b[39m     \u001b[38;5;28;01mreturn\u001b[39;00m \u001b[43mF\u001b[49m\u001b[43m.\u001b[49m\u001b[43mlinear\u001b[49m\u001b[43m(\u001b[49m\u001b[38;5;28;43minput\u001b[39;49m\u001b[43m,\u001b[49m\u001b[43m \u001b[49m\u001b[38;5;28;43mself\u001b[39;49m\u001b[43m.\u001b[49m\u001b[43mweight\u001b[49m\u001b[43m,\u001b[49m\u001b[43m \u001b[49m\u001b[38;5;28;43mself\u001b[39;49m\u001b[43m.\u001b[49m\u001b[43mbias\u001b[49m\u001b[43m)\u001b[49m\n",
      "\u001b[31mTypeError\u001b[39m: linear(): argument 'input' (position 1) must be Tensor, not DataFrame"
     ]
    }
   ],
   "source": [
    "model.eval() #перевод модели в режим оценки\n",
    "with torch.no_grad(): #отключаем подсчет градиентов для оптимизации памяти\n",
    "    predictions  = model(xtest) # получаем тенсор из предсказаний вероятности класса\n",
    "    predicted_labels = torch.argmax(predictions, axis=1)#получаем класс с максимальной вероятностью\n",
    "    acc = accuracy_score(yt, predicted_labels)\n",
    "    print(f\"Accuracy: {acc:.4f}\")"
   ]
  },
  {
   "cell_type": "raw",
   "id": "787a1afc-f2e8-4829-b22f-90b695da2ea2",
   "metadata": {},
   "source": [
    "63% точности ну конечно очень не очень\n",
    "однако было всего 50 эпох, щас визуализирую матрицу и попробую снова"
   ]
  },
  {
   "cell_type": "code",
   "execution_count": 364,
   "id": "c6e35027-6b69-4d4d-8622-c4a12ea3cfa1",
   "metadata": {},
   "outputs": [],
   "source": [
    "import matplotlib.pyplot as plt\n",
    "import seaborn as sns\n",
    "from sklearn.metrics import confusion_matrix"
   ]
  },
  {
   "cell_type": "code",
   "execution_count": 365,
   "id": "8f5fc834-6649-4dbd-a0b3-c28511859a98",
   "metadata": {},
   "outputs": [],
   "source": [
    "y = ytest.cpu().numpy()\n",
    "y_pred = predicted_labels.cpu().numpy()"
   ]
  },
  {
   "cell_type": "code",
   "execution_count": 366,
   "id": "ee099faa-0c3a-4a4a-8a7b-712240ceb126",
   "metadata": {},
   "outputs": [
    {
     "data": {
      "image/png": "[encoded data removed]",
      "text/plain": [
       "<Figure size 640x480 with 2 Axes>"
      ]
     },
     "metadata": {},
     "output_type": "display_data"
    }
   ],
   "source": [
    "cm = confusion_matrix(y, y_pred)\n",
    "sns.heatmap(cm, annot=True, fmt='d')\n",
    "plt.xlabel(\"Предсказание\")\n",
    "plt.ylabel(\"Реальность\")\n",
    "plt.title(\"матрица ошибок\")\n",
    "plt.show()"
   ]
  },
  {
   "cell_type": "raw",
   "id": "901d0bdb-180a-418b-a582-85c501a81657",
   "metadata": {},
   "source": [
    "клевая модель отнесла всех к 1 классу\n",
    "а все потому что должно быть 2 нейрона на выходе "
   ]
  },
  {
   "cell_type": "raw",
   "id": "f05ff684-e72d-40bc-920a-65f2fd23bc1d",
   "metadata": {},
   "source": [
    "за 100 эпох модель обучилась до 99% точности, главное больше не трогать, а то переобучается"
   ]
  },
  {
   "cell_type": "raw",
   "id": "6f6d61ec-fd00-499f-82f7-52ed5d83e729",
   "metadata": {},
   "source": [
    "Сохраним значения предсказаний классов в датафрейм\n"
   ]
  },
  {
   "cell_type": "code",
   "execution_count": 367,
   "id": "79bbdc60-b697-463d-8bce-2b782994dc99",
   "metadata": {},
   "outputs": [
    {
     "data": {
      "text/plain": [
       "array([0, 0, 0, 1, 0, 1, 1, 0, 1, 1, 0, 0, 0, 0, 0, 1, 0, 1, 0, 0, 0, 0,\n",
       "       0, 0, 0, 0, 0, 0, 0, 0, 0, 0, 0, 0, 0, 0, 0, 1, 1, 0, 0, 0, 0, 0,\n",
       "       0, 0, 0, 0, 0, 0, 1, 1, 0, 1, 0, 1, 0, 1, 1, 1, 0, 1, 1, 0, 0, 1,\n",
       "       0, 0, 1, 1, 1, 1, 0, 1, 0, 0, 1, 1, 1, 0, 0, 1, 1, 0, 0, 1, 1, 1,\n",
       "       0, 0, 1, 0, 0, 0, 0, 0, 0, 0, 1, 0, 0, 0, 1, 0, 0, 0, 1, 0, 0, 0,\n",
       "       1, 0, 1, 0, 0, 0, 1, 0, 1, 0, 0, 1, 1, 1, 0, 0, 1, 0, 0, 0, 1, 0,\n",
       "       0, 0, 1, 0, 1, 0, 0, 0, 0, 1, 0, 0, 0, 1, 0, 0, 1, 0, 0, 0, 0, 1,\n",
       "       0, 0, 1, 1, 1, 1, 0, 0, 0, 1, 0, 0, 0, 1, 0, 0, 0, 1, 0, 1, 0, 0,\n",
       "       0, 1, 1])"
      ]
     },
     "execution_count": 367,
     "metadata": {},
     "output_type": "execute_result"
    }
   ],
   "source": [
    "y_pred"
   ]
  },
  {
   "cell_type": "raw",
   "id": "4ecb0923-4c35-46e6-8757-7ff34b91467b",
   "metadata": {},
   "source": [
    "Ну вроде на 81% Наобучал, теперь скачиваю тестовую выборку, обучаю модель на ней на 500 эпох и отправляю"
   ]
  },
  {
   "cell_type": "code",
   "execution_count": 369,
   "id": "c8e309f8-d012-4bd7-84b1-b492571489af",
   "metadata": {},
   "outputs": [],
   "source": [
    "data = pd.read_csv(R\"C:\\Users\\gavri\\ML\\datasets\\titanic\\test.csv\")\n",
    "data['Age'] = data['Age'].fillna(data['Age'].median())\n",
    "data = data.drop(['PassengerId', 'Name', 'Ticket', 'Cabin'], axis=1)\n",
    "le = LabelEncoder()\n",
    "data['Sex'] = le.fit_transform(data['Sex'])\n",
    "data = pd.get_dummies(data, columns=['Embarked'], drop_first=True)\n",
    "scaler = MinMaxScaler()\n",
    "data[['Age', 'Fare']] = scaler.fit_transform(data[['Age', 'Fare']])\n",
    "\n",
    "xtest = data"
   ]
  },
  {
   "cell_type": "code",
   "execution_count": null,
   "id": "bbec8df4-05c0-4e9b-80c7-38fd24f941ba",
   "metadata": {},
   "outputs": [],
   "source": [
    "model2 = Net()\n"
   ]
  },
  {
   "cell_type": "code",
   "execution_count": 368,
   "id": "4116af43-f49b-4b6a-b678-777e066cef9c",
   "metadata": {},
   "outputs": [
    {
     "ename": "NameError",
     "evalue": "name 'ydata' is not defined",
     "output_type": "error",
     "traceback": [
      "\u001b[31m---------------------------------------------------------------------------\u001b[39m",
      "\u001b[31mNameError\u001b[39m                                 Traceback (most recent call last)",
      "\u001b[36mCell\u001b[39m\u001b[36m \u001b[39m\u001b[32mIn[368]\u001b[39m\u001b[32m, line 2\u001b[39m\n\u001b[32m      1\u001b[39m submission = pd.DataFrame({\n\u001b[32m----> \u001b[39m\u001b[32m2\u001b[39m     \u001b[33m\"\u001b[39m\u001b[33mPassengerId\u001b[39m\u001b[33m\"\u001b[39m: \u001b[43mydata\u001b[49m[\u001b[33m\"\u001b[39m\u001b[33mPassengerId\u001b[39m\u001b[33m\"\u001b[39m],\n\u001b[32m      3\u001b[39m     \u001b[33m\"\u001b[39m\u001b[33mSurvived\u001b[39m\u001b[33m\"\u001b[39m: y_pred\n\u001b[32m      4\u001b[39m })\n",
      "\u001b[31mNameError\u001b[39m: name 'ydata' is not defined"
     ]
    }
   ],
   "source": [
    "submission = pd.DataFrame({\n",
    "    \"PassengerId\": data[\"PassengerId\"],\n",
    "    \"Survived\": y_pred\n",
    "})\n"
   ]
  },
  {
   "cell_type": "raw",
   "id": "73934174-fc10-4871-9c3c-36afb76e4cae",
   "metadata": {},
   "source": [
    "сохраним датафрейм как csv файл для отправки на Kaggle"
   ]
  },
  {
   "cell_type": "code",
   "execution_count": 245,
   "id": "4ab885e0-1bad-4071-a934-4a1154f7f9d3",
   "metadata": {},
   "outputs": [],
   "source": [
    "submission.to_csv(\"submission.csv\", index=False)"
   ]
  },
  {
   "cell_type": "code",
   "execution_count": null,
   "id": "83061e12-a27b-43e5-95f6-db8f270df9e9",
   "metadata": {},
   "outputs": [],
   "source": []
  }
 ],
 "metadata": {
  "kernelspec": {
   "display_name": "Python 3 (ipykernel)",
   "language": "python",
   "name": "python3"
  },
  "language_info": {
   "codemirror_mode": {
    "name": "ipython",
    "version": 3
   },
   "file_extension": ".py",
   "mimetype": "text/x-python",
   "name": "python",
   "nbconvert_exporter": "python",
   "pygments_lexer": "ipython3",
   "version": "3.13.2"
  }
 },
 "nbformat": 4,
 "nbformat_minor": 5
}
