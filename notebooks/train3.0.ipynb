{
 "cells": [
  {
   "cell_type": "code",
   "execution_count": 1,
   "id": "1548a0e9-ebd3-411f-a1ee-e7d7400d4981",
   "metadata": {},
   "outputs": [
    {
     "name": "stdout",
     "output_type": "stream",
     "text": [
      "Текущая рабочая директория: C:\\Users\\gavri\\ML\\projects\\fashion_mnist\\notebooks\n"
     ]
    }
   ],
   "source": [
    "import sys\n",
    "import os\n",
    "sys.path.append(os.path.abspath('..')) #поднимаемся на одну директорию вверх\n",
    "print(\"Текущая рабочая директория:\", os.getcwd())\n",
    "import torch\n",
    "import torch.nn as nn\n",
    "import torch.optim as optim\n",
    "\n",
    "from src.data import get_dataloaders\n",
    "from src.model3 import FashionCNNv3\n",
    "device = torch.device(\"cuda\" if torch.cuda.is_available() else \"cpu\")"
   ]
  },
  {
   "cell_type": "code",
   "execution_count": 2,
   "id": "76dacfb4-ec62-4287-b41c-18af04ae8b25",
   "metadata": {},
   "outputs": [],
   "source": [
    "train_loader, val_loader, test_loader = get_dataloaders(batch_size=64)"
   ]
  },
  {
   "cell_type": "code",
   "execution_count": 3,
   "id": "64fcb78a-44ea-4ce7-a682-02836626f09c",
   "metadata": {},
   "outputs": [],
   "source": [
    "model = FashionCNNv3().to(device)\n",
    "criterion = nn.CrossEntropyLoss()\n",
    "optimizer = optim.Adam(model.parameters(), lr=0.001)"
   ]
  },
  {
   "cell_type": "code",
   "execution_count": 4,
   "id": "82f553c3-73a8-4d3d-a93d-8c3dd469a0ec",
   "metadata": {},
   "outputs": [
    {
     "name": "stdout",
     "output_type": "stream",
     "text": [
      "[1/10] Loss: 0.6527\n",
      "[2/10] Loss: 0.4146\n",
      "[3/10] Loss: 0.3669\n",
      "[4/10] Loss: 0.3353\n",
      "[5/10] Loss: 0.3220\n",
      "[6/10] Loss: 0.3086\n",
      "[7/10] Loss: 0.2983\n",
      "[8/10] Loss: 0.2872\n",
      "[9/10] Loss: 0.2797\n",
      "[10/10] Loss: 0.2738\n"
     ]
    }
   ],
   "source": [
    "for epoch in range(10):\n",
    "    model.train() #переходим в режим обучения модели\n",
    "    running_loss = 0.0\n",
    "\n",
    "    for images, labels in train_loader:\n",
    "        images, labels = images.to(device), labels.to(device)\n",
    "\n",
    "        optimizer.zero_grad() #\n",
    "        outputs = model(images) #\n",
    "        loss = criterion(outputs, labels)\n",
    "        loss.backward()\n",
    "        optimizer.step()\n",
    "    \n",
    "        running_loss += loss.item()\n",
    "        \n",
    "    avg_loss = running_loss / len(train_loader)\n",
    "    print(f\"[{epoch+1}/10] Loss: {avg_loss:.4f}\")"
   ]
  },
  {
   "cell_type": "raw",
   "id": "80d87b96-6e1a-4ea4-990a-069988824261",
   "metadata": {},
   "source": [
    "ну loss еще хуже чем на второй модели, однако скорее всего это хорошо, ибо модель теперь наврятли переобучится. а главное я рад что работает cuda и учится не пол часа"
   ]
  },
  {
   "cell_type": "code",
   "execution_count": 6,
   "id": "1e34248e-eb69-4b07-a2ed-587637624273",
   "metadata": {},
   "outputs": [],
   "source": [
    "torch.save(model.state_dict(), \"../models/fashion_cnnv3.pth\")"
   ]
  },
  {
   "cell_type": "code",
   "execution_count": null,
   "id": "347d00af-0e61-46da-9191-32eb940900f7",
   "metadata": {},
   "outputs": [],
   "source": []
  }
 ],
 "metadata": {
  "kernelspec": {
   "display_name": "Python 3 (ipykernel)",
   "language": "python",
   "name": "python3"
  },
  "language_info": {
   "codemirror_mode": {
    "name": "ipython",
    "version": 3
   },
   "file_extension": ".py",
   "mimetype": "text/x-python",
   "name": "python",
   "nbconvert_exporter": "python",
   "pygments_lexer": "ipython3",
   "version": "3.10.16"
  }
 },
 "nbformat": 4,
 "nbformat_minor": 5
}
