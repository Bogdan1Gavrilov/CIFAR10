{
 "cells": [
  {
   "cell_type": "code",
   "execution_count": 1,
   "id": "5f9a7aaa-9b47-4ff7-adac-6724bce90f1f",
   "metadata": {},
   "outputs": [
    {
     "name": "stdout",
     "output_type": "stream",
     "text": [
      "Текущая рабочая директория: C:\\Users\\gavri\\ML\\projects\\fashion_mnist\\notebooks\n"
     ]
    }
   ],
   "source": [
    "import sys\n",
    "import os\n",
    "sys.path.append(os.path.abspath('..')) #поднимаемся на одну директорию вверх\n",
    "print(\"Текущая рабочая директория:\", os.getcwd())\n",
    "import torch\n",
    "import torch.nn as nn\n",
    "import torch.optim as optim\n",
    "\n",
    "from src.data import get_dataloaders\n",
    "from src.model2 import FashionCNNv2\n",
    "device = torch.device(\"cuda\" if torch.cuda.is_available() else \"cpu\")"
   ]
  },
  {
   "cell_type": "code",
   "execution_count": 2,
   "id": "d40c8b4c-6493-49ab-94ea-298cf3fbe2ba",
   "metadata": {},
   "outputs": [],
   "source": [
    "train_loader, val_loader, test_loader = get_dataloaders(batch_size=64)"
   ]
  },
  {
   "cell_type": "code",
   "execution_count": 3,
   "id": "3668f4f2-a7a5-4bca-a573-01338677395b",
   "metadata": {},
   "outputs": [],
   "source": [
    "model = FashionCNNv2().to(device)\n",
    "criterion = nn.CrossEntropyLoss()\n",
    "optimizer = optim.Adam(model.parameters(), lr=0.001)"
   ]
  },
  {
   "cell_type": "code",
   "execution_count": 4,
   "id": "87d5335e-28d0-46ac-b583-69d5f2690faa",
   "metadata": {},
   "outputs": [
    {
     "name": "stdout",
     "output_type": "stream",
     "text": [
      "[1/10] Loss: 0.4595\n",
      "[2/10] Loss: 0.3170\n",
      "[3/10] Loss: 0.2676\n",
      "[4/10] Loss: 0.2405\n",
      "[5/10] Loss: 0.2116\n",
      "[6/10] Loss: 0.1886\n",
      "[7/10] Loss: 0.1735\n",
      "[8/10] Loss: 0.1496\n",
      "[9/10] Loss: 0.1363\n",
      "[10/10] Loss: 0.1236\n"
     ]
    }
   ],
   "source": [
    "for epoch in range(10):\n",
    "    model.train() #переходим в режим обучения модели\n",
    "    running_loss = 0.0\n",
    "\n",
    "    for images, labels in train_loader:\n",
    "        images, labels = images.to(device), labels.to(device)\n",
    "\n",
    "        optimizer.zero_grad() #\n",
    "        outputs = model(images) #\n",
    "        loss = criterion(outputs, labels)\n",
    "        loss.backward()\n",
    "        optimizer.step()\n",
    "    \n",
    "        running_loss += loss.item()\n",
    "        \n",
    "    avg_loss = running_loss / len(train_loader)\n",
    "    print(f\"[{epoch+1}/10] Loss: {avg_loss:.4f}\")"
   ]
  },
  {
   "cell_type": "raw",
   "id": "c0ac11eb-e369-4782-b010-1b94397fbd44",
   "metadata": {},
   "source": [
    "надеюсь модель прибавит хотя бы полтора процента иначе за счет астолько сильного увеличения времени вычислений это будет пустой тратой производственной мощности. \n",
    "1 эпоха в сравнении с первой моделью дала улучшение loss функции на 0.005\n",
    "2 эпоха показала результат на 0.027 хуже(цирк). возможно это происходит из-за dropout и в конечном итоге accuracy на тесте будет лучше, но это я узнаю позже\n",
    "3 эпоха +0.0263\n",
    "4 эпоха + 0.04\n",
    "5 эпоха + 0.04\n",
    "6 эпоха + 0.035\n",
    "7 эпоха + 0.048\n",
    "8 эпоха + 0.048\n",
    "10 +0.05"
   ]
  },
  {
   "cell_type": "code",
   "execution_count": 6,
   "id": "e4d67c48-ef1e-4d81-862d-45a8c79ed4d9",
   "metadata": {},
   "outputs": [],
   "source": [
    "torch.save(model.state_dict(), \"../models/fashion_cnnv2.pth\")"
   ]
  },
  {
   "cell_type": "code",
   "execution_count": null,
   "id": "76960986-6e2e-47f2-ba30-1da869c8215f",
   "metadata": {},
   "outputs": [],
   "source": []
  }
 ],
 "metadata": {
  "kernelspec": {
   "display_name": "Python 3 (ipykernel)",
   "language": "python",
   "name": "python3"
  },
  "language_info": {
   "codemirror_mode": {
    "name": "ipython",
    "version": 3
   },
   "file_extension": ".py",
   "mimetype": "text/x-python",
   "name": "python",
   "nbconvert_exporter": "python",
   "pygments_lexer": "ipython3",
   "version": "3.10.16"
  }
 },
 "nbformat": 4,
 "nbformat_minor": 5
}
