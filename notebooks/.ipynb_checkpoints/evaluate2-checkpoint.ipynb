{
 "cells": [
  {
   "cell_type": "code",
   "execution_count": 1,
   "id": "f66522ce-a472-4a2f-85e7-0f9a311efa7d",
   "metadata": {},
   "outputs": [],
   "source": [
    "import sys\n",
    "import os\n",
    "sys.path.append(os.path.abspath('..')) #поднимаемся на одну директорию вверх\n",
    "\n",
    "import torch\n",
    "import torch.nn as nn\n",
    "from src.model2 import FashionCNNv2\n",
    "from src.data import get_dataloaders\n",
    "\n",
    "device = torch.device(\"cuda\" if torch.cuda.is_available() else \"cpu\")\n",
    "_, _, test_loader = get_dataloaders(batch_size=64)  # train И val не нужен\n"
   ]
  },
  {
   "cell_type": "code",
   "execution_count": 2,
   "id": "b4948959-3193-480b-8f80-6ab5e8b8448b",
   "metadata": {},
   "outputs": [
    {
     "data": {
      "text/plain": [
       "<All keys matched successfully>"
      ]
     },
     "execution_count": 2,
     "metadata": {},
     "output_type": "execute_result"
    }
   ],
   "source": [
    "model = FashionCNNv2().to(device)\n",
    "model.load_state_dict(torch.load(\"../models/fashion_cnnv2.pth\"))"
   ]
  },
  {
   "cell_type": "code",
   "execution_count": 3,
   "id": "39ebc785-13e2-423d-b7c5-dee2da717e4d",
   "metadata": {},
   "outputs": [],
   "source": [
    "criterion = nn.CrossEntropyLoss()"
   ]
  },
  {
   "cell_type": "raw",
   "id": "66a00031-0dd0-4f04-9568-f354973f44ea",
   "metadata": {},
   "source": [
    "Ну, надеюсь хотя бы не упадет точность)))"
   ]
  },
  {
   "cell_type": "code",
   "execution_count": 4,
   "id": "6e61fd0d-0681-439f-b6fc-bffcc29bdb74",
   "metadata": {},
   "outputs": [
    {
     "name": "stdout",
     "output_type": "stream",
     "text": [
      " Test Loss: 0.2405\n",
      " Test Accuracy: 92.36%\n"
     ]
    }
   ],
   "source": [
    "model.eval()#Переходим в режим проверки\n",
    "correct = 0\n",
    "total = 0\n",
    "test_loss = 0.0\n",
    "\n",
    "with torch.no_grad():#Режим без вычисления градиентов(донастройки модели)\n",
    "    for images, labels in test_loader:\n",
    "        images, labels = images.to(device), labels.to(device)\n",
    "        outputs = model(images)\n",
    "        loss = criterion(outputs, labels)\n",
    "        test_loss += loss.item()\n",
    "\n",
    "        _, predicted = torch.max(outputs.data, 1)\n",
    "        total += labels.size(0)\n",
    "        correct += (predicted == labels).sum().item()\n",
    "\n",
    "avg_loss = test_loss / len(test_loader)\n",
    "accuracy = correct / total * 100\n",
    "\n",
    "print(f\" Test Loss: {avg_loss:.4f}\")\n",
    "print(f\" Test Accuracy: {accuracy:.2f}%\")"
   ]
  },
  {
   "cell_type": "raw",
   "id": "5e3147ef-2b92-4276-a3d1-4ba8cc05b941",
   "metadata": {},
   "source": [
    "СОСАТЬ ПОЧТИ +1%"
   ]
  }
 ],
 "metadata": {
  "kernelspec": {
   "display_name": "Python 3 (ipykernel)",
   "language": "python",
   "name": "python3"
  },
  "language_info": {
   "codemirror_mode": {
    "name": "ipython",
    "version": 3
   },
   "file_extension": ".py",
   "mimetype": "text/x-python",
   "name": "python",
   "nbconvert_exporter": "python",
   "pygments_lexer": "ipython3",
   "version": "3.13.2"
  }
 },
 "nbformat": 4,
 "nbformat_minor": 5
}
