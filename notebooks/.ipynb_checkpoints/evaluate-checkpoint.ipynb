{
 "cells": [
  {
   "cell_type": "raw",
   "id": "30e4dc12-ccb3-48de-af66-89b779bda7af",
   "metadata": {},
   "source": [
    "ТАК КАК SRC И NOTEBOOKS ЛЕЖАТ НА ОДНОМ УРОВНЕ - ПРИ ПОПЫТКЕ ИСПОЛЬЗОВАТЬ В NOTEBOOKS ЧТО ЛИБО ИЗ SRC ПРИХОДИТСЯ ПОДНИМАТЬСЯ НА ОДНО ДИРЕКТОРИЮ ВЫШЕ В FASHION MNIST"
   ]
  },
  {
   "cell_type": "code",
   "execution_count": 4,
   "id": "ca62d057-ebb0-46fd-b2e8-7356e2d00a73",
   "metadata": {},
   "outputs": [],
   "source": [
    "import sys\n",
    "import os\n",
    "sys.path.append(os.path.abspath('..')) #поднимаемся на одну директорию вверх"
   ]
  },
  {
   "cell_type": "code",
   "execution_count": 6,
   "id": "18ae167b-d347-4b8e-99ef-b03e20a4969a",
   "metadata": {},
   "outputs": [],
   "source": [
    "import torch\n",
    "import torch.nn as nn\n",
    "from src.model import FashionCNN\n",
    "from src.data import get_dataloaders\n",
    "\n",
    "device = torch.device(\"cuda\" if torch.cuda.is_available() else \"cpu\")\n"
   ]
  },
  {
   "cell_type": "code",
   "execution_count": 7,
   "id": "0a2eb29d-58d2-4d36-a5e8-0970d2e383f2",
   "metadata": {},
   "outputs": [
    {
     "name": "stderr",
     "output_type": "stream",
     "text": [
      "100%|██████████████████████████████████████████████████████████████████████████████| 26.4M/26.4M [01:38<00:00, 269kB/s]\n",
      "100%|██████████████████████████████████████████████████████████████████████████████| 29.5k/29.5k [00:00<00:00, 223kB/s]\n",
      "100%|██████████████████████████████████████████████████████████████████████████████| 4.42M/4.42M [00:15<00:00, 287kB/s]\n",
      "100%|█████████████████████████████████████████████████████████████████████████████| 5.15k/5.15k [00:00<00:00, 19.8MB/s]\n"
     ]
    }
   ],
   "source": [
    "_, _, test_loader = get_dataloaders(batch_size=64)  # train И val не нужен"
   ]
  },
  {
   "cell_type": "raw",
   "id": "c4ba652a-b7ed-47d7-b9ea-8ae0ad5bd7de",
   "metadata": {},
   "source": [
    "инициализируем модель, загружаем найденные ранее веса "
   ]
  },
  {
   "cell_type": "code",
   "execution_count": 10,
   "id": "03ec807c-4e7c-4d35-a976-2ad464475778",
   "metadata": {},
   "outputs": [
    {
     "data": {
      "text/plain": [
       "<All keys matched successfully>"
      ]
     },
     "execution_count": 10,
     "metadata": {},
     "output_type": "execute_result"
    }
   ],
   "source": [
    "model = FashionCNN().to(device)\n",
    "model.load_state_dict(torch.load(\"../models/fashion_cnn.pth\"))"
   ]
  },
  {
   "cell_type": "raw",
   "id": "8e080b52-7ad6-47be-9367-46cfc58207c9",
   "metadata": {},
   "source": [
    "Инициализируем функцию потерь"
   ]
  },
  {
   "cell_type": "code",
   "execution_count": 11,
   "id": "de911d77-668c-44f0-9588-4bffca786e9c",
   "metadata": {},
   "outputs": [],
   "source": [
    "criterion = nn.CrossEntropyLoss()"
   ]
  },
  {
   "cell_type": "code",
   "execution_count": 15,
   "id": "3a6392f9-847d-49c2-ba25-f540a24eda29",
   "metadata": {},
   "outputs": [
    {
     "name": "stdout",
     "output_type": "stream",
     "text": [
      " Test Loss: 0.3027\n",
      " Test Accuracy: 91.54%\n"
     ]
    }
   ],
   "source": [
    "model.eval()#Переходим в режим проверки\n",
    "correct = 0\n",
    "total = 0\n",
    "test_loss = 0.0\n",
    "\n",
    "with torch.no_grad():#Режим без вычисления градиентов(донастройки модели)\n",
    "    for images, labels in test_loader:\n",
    "        images, labels = images.to(device), labels.to(device)\n",
    "        outputs = model(images)\n",
    "        loss = criterion(outputs, labels)\n",
    "        test_loss += loss.item()\n",
    "\n",
    "        _, predicted = torch.max(outputs.data, 1)\n",
    "        total += labels.size(0)\n",
    "        correct += (predicted == labels).sum().item()\n",
    "\n",
    "avg_loss = test_loss / len(test_loader)\n",
    "accuracy = correct / total * 100\n",
    "\n",
    "print(f\" Test Loss: {avg_loss:.4f}\")\n",
    "print(f\" Test Accuracy: {accuracy:.2f}%\")"
   ]
  },
  {
   "cell_type": "code",
   "execution_count": null,
   "id": "ab6a2daa-cc92-4e28-b0e6-4d951a9116b4",
   "metadata": {},
   "outputs": [],
   "source": []
  }
 ],
 "metadata": {
  "kernelspec": {
   "display_name": "Python 3 (ipykernel)",
   "language": "python",
   "name": "python3"
  },
  "language_info": {
   "codemirror_mode": {
    "name": "ipython",
    "version": 3
   },
   "file_extension": ".py",
   "mimetype": "text/x-python",
   "name": "python",
   "nbconvert_exporter": "python",
   "pygments_lexer": "ipython3",
   "version": "3.13.2"
  }
 },
 "nbformat": 4,
 "nbformat_minor": 5
}
