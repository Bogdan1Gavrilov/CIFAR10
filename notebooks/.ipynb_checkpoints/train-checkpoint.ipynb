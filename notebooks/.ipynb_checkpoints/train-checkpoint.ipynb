{
 "cells": [
  {
   "cell_type": "code",
   "execution_count": 4,
   "id": "767a11e5-5994-4c25-ab02-2d3f5d3859be",
   "metadata": {},
   "outputs": [],
   "source": [
    "import torch\n",
    "import torch.nn as nn\n",
    "import torch.optim as optim\n",
    "\n",
    "from src.data import get_dataloaders\n",
    "from src.model import FashionCNN"
   ]
  },
  {
   "cell_type": "raw",
   "id": "496b02d9-e850-4bbc-b93e-41e33e668ee4",
   "metadata": {},
   "source": [
    "Настроим устройство для вычислений - по возможности они будут переноситься на видеокарту"
   ]
  },
  {
   "cell_type": "code",
   "execution_count": 5,
   "id": "c40ea5a8-7a86-4cb8-9666-ebcee164b2cb",
   "metadata": {},
   "outputs": [],
   "source": [
    "device = torch.device(\"cuda\" if torch.cuda.is_available() else \"cpu\")"
   ]
  },
  {
   "cell_type": "raw",
   "id": "0c4a9969-81f7-4747-b114-5c9ecd524f09",
   "metadata": {},
   "source": [
    "Загружаем данные"
   ]
  },
  {
   "cell_type": "code",
   "execution_count": 6,
   "id": "c1f32eab-3b5a-47fb-9fbf-98a369fed137",
   "metadata": {},
   "outputs": [
    {
     "name": "stderr",
     "output_type": "stream",
     "text": [
      "100%|██████████████████████████████████████████████████████████████████████████████| 26.4M/26.4M [01:31<00:00, 290kB/s]\n",
      "100%|██████████████████████████████████████████████████████████████████████████████| 29.5k/29.5k [00:00<00:00, 515kB/s]\n",
      "100%|█████████████████████████████████████████████████████████████████████████████| 4.42M/4.42M [00:03<00:00, 1.23MB/s]\n",
      "100%|█████████████████████████████████████████████████████████████████████████████| 5.15k/5.15k [00:00<00:00, 55.7MB/s]\n"
     ]
    }
   ],
   "source": [
    "train_loader, val_loader, test_loader = get_dataloaders(batch_size=64)"
   ]
  },
  {
   "cell_type": "raw",
   "id": "a417150f-3dca-4d07-adcf-cd8f0f7cbaf8",
   "metadata": {},
   "source": [
    "инициализируем модель, функцию потерь и оптимизатор"
   ]
  },
  {
   "cell_type": "code",
   "execution_count": 7,
   "id": "e7be9abf-0fbe-4467-8410-c902870f9622",
   "metadata": {},
   "outputs": [],
   "source": [
    "model = FashionCNN().to(device)\n",
    "criterion = nn.CrossEntropyLoss()\n",
    "optimizer = optim.Adam(model.parameters(), lr=0.001)"
   ]
  },
  {
   "cell_type": "raw",
   "id": "3d140896-9564-412d-9fed-11f1e182ccce",
   "metadata": {},
   "source": [
    "Начинаем цикл обучения"
   ]
  },
  {
   "cell_type": "code",
   "execution_count": 8,
   "id": "de38f38c-d771-4a93-93cc-3c1c795716a9",
   "metadata": {},
   "outputs": [
    {
     "name": "stdout",
     "output_type": "stream",
     "text": [
      "[1/10] Loss: 0.4644\n",
      "[2/10] Loss: 0.2900\n",
      "[3/10] Loss: 0.2413\n",
      "[4/10] Loss: 0.2082\n",
      "[5/10] Loss: 0.1785\n",
      "[6/10] Loss: 0.1538\n",
      "[7/10] Loss: 0.1292\n",
      "[8/10] Loss: 0.1108\n",
      "[9/10] Loss: 0.0891\n",
      "[10/10] Loss: 0.0732\n"
     ]
    }
   ],
   "source": [
    "for epoch in range(10):\n",
    "    model.train() #переходим в режим обучения модели\n",
    "    running_loss = 0.0\n",
    "\n",
    "    for images, labels in train_loader:\n",
    "        images, labels = images.to(device), labels.to(device)\n",
    "\n",
    "        optimizer.zero_grad() #\n",
    "        outputs = model(images) #\n",
    "        loss = criterion(outputs, labels)\n",
    "        loss.backward()\n",
    "        optimizer.step()\n",
    "    \n",
    "        running_loss += loss.item()\n",
    "        \n",
    "    avg_loss = running_loss / len(train_loader)\n",
    "    print(f\"[{epoch+1}/10] Loss: {avg_loss:.4f}\")\n"
   ]
  },
  {
   "cell_type": "raw",
   "id": "0a109196-11c4-4927-a51a-1a6c65c08019",
   "metadata": {},
   "source": [
    "Сохраняем модель"
   ]
  },
  {
   "cell_type": "code",
   "execution_count": 10,
   "id": "67e6cc8e-186d-460d-8a9f-fdc63dda8b54",
   "metadata": {},
   "outputs": [],
   "source": [
    "torch.save(model.state_dict(), \"models/fashion_cnn.pth\")"
   ]
  },
  {
   "cell_type": "code",
   "execution_count": null,
   "id": "5b7cd1ee-f13d-4874-ae3f-18121eab382a",
   "metadata": {},
   "outputs": [],
   "source": []
  }
 ],
 "metadata": {
  "kernelspec": {
   "display_name": "Python 3 (ipykernel)",
   "language": "python",
   "name": "python3"
  },
  "language_info": {
   "codemirror_mode": {
    "name": "ipython",
    "version": 3
   },
   "file_extension": ".py",
   "mimetype": "text/x-python",
   "name": "python",
   "nbconvert_exporter": "python",
   "pygments_lexer": "ipython3",
   "version": "3.13.2"
  }
 },
 "nbformat": 4,
 "nbformat_minor": 5
}
